{
 "cells": [
  {
   "cell_type": "markdown",
   "metadata": {},
   "source": [
    "# Regular Expression Via Python"
   ]
  },
  {
   "cell_type": "markdown",
   "metadata": {},
   "source": [
    "### Raw String ?\n",
    "=>  It's just a string with a prefix 'r'. It helps in python not to handle backslashs in any special way"
   ]
  },
  {
   "cell_type": "code",
   "execution_count": 93,
   "metadata": {},
   "outputs": [
    {
     "name": "stdout",
     "output_type": "stream",
     "text": [
      "Tab\n",
      "\tTab\n",
      "\\tTab\n"
     ]
    }
   ],
   "source": [
    "print('Tab')\n",
    "print('\\tTab')\n",
    "print(r'\\tTab')"
   ]
  },
  {
   "cell_type": "markdown",
   "metadata": {},
   "source": [
    "##### . = Any character expect new line\n",
    "##### \\d = Digit (0-9)\n",
    "##### \\D = Not a digit(0-9)\n",
    "##### \\w = word characters (a-z, A-Z, 0-9, _ )\n",
    "##### \\W = not a word character\n",
    "##### \\s = Whitespace(space, tab, newline)\n",
    "##### \\S = Not Whitespace (space, tab, newline)"
   ]
  },
  {
   "cell_type": "markdown",
   "metadata": {},
   "source": [
    "## Anchors\n",
    "##### \\b = Word Boundary\n",
    "##### \\B =  Not a word boundary\n",
    "##### ^ = Beginning of a string\n",
    "##### $ = end of a string\n",
    "##### [ ] = Matches characters in brackets\n",
    "##### [^ ] = Matches character not in brackets\n",
    "##### | = either or\n",
    "##### ( ) = group\n",
    "\n",
    "## Quantifiers\n",
    "##### * = 0 or more\n",
    "##### + = 1 or more\n",
    "##### ? = 0 or 1\n",
    "##### {3} = exact number\n",
    "##### {3,5} = Range of numbers(min, max)"
   ]
  },
  {
   "cell_type": "code",
   "execution_count": 211,
   "metadata": {},
   "outputs": [],
   "source": [
    "def reg_ex(abc):\n",
    "    matches = re.finditer(pattern= abc, string= text_to_Search)\n",
    "    for match in matches:\n",
    "        print(match)\n",
    "        print(text_to_Search[match.regs[0][0]:match.regs[0][1]])\n",
    "#print(text_to_Search[match.regs[0][0]:match.regs[0][1]])"
   ]
  },
  {
   "cell_type": "code",
   "execution_count": 266,
   "metadata": {},
   "outputs": [],
   "source": [
    "text_to_Search = '''\n",
    "abcdefghijklmnopqrstuvwxyz\n",
    "ABCDEFGHIJKLMNOPQRSTUVQWXYZ\n",
    "1234567890\n",
    "_ --\n",
    "Ha Haha Haha\n",
    "Meta characters (Need to be escaped) :\n",
    ". ^ $ * + ? { } [ ] \\ | ( )\n",
    "surya@gmail.com\n",
    "mahesh@gmail.com\n",
    "m4ahesh@gmail.com\n",
    "luies@outlook.com\n",
    "321-555-5363\n",
    "332.454.6584\n",
    "300-444-5435\n",
    "400-344-5456\n",
    "Mr. ABC\n",
    "Mr Smith\n",
    "Mr Davis\n",
    "Mr. T\n",
    "Ms Robinson\n",
    "Mrs Lady\n",
    "\n",
    "#URL\n",
    "https://www.youtube.com\n",
    "http://www.google.com\n",
    "http://coryms.in\n",
    "http://haryana.gov\n",
    "\n",
    "His birtday is on Friday.\n",
    "'''\n",
    "\n",
    "Sentance = 'Start an sentance and bring it to an end'"
   ]
  },
  {
   "cell_type": "code",
   "execution_count": 291,
   "metadata": {},
   "outputs": [
    {
     "name": "stdout",
     "output_type": "stream",
     "text": [
      "\n",
      "abcdefghijklmnopqrstuvwxyz\n",
      "ABCDEFGHIJKLMNOPQRSTUVQWXYZ\n",
      "1234567890\n",
      "_ --\n",
      "Ha Haha Haha\n",
      "Meta characters (Need to be escaped) :\n",
      ". ^ $ * + ? { } [ ] \\ | ( )\n",
      "surya@gmail.com\n",
      "mahesh@gmail.com\n",
      "m4ahesh@gmail.com\n",
      "luies@outlook.com\n",
      "321-555-5363\n",
      "332.454.6584\n",
      "300-444-5435\n",
      "400-344-5456\n",
      "Mr. ABC\n",
      "Mr Smith\n",
      "Mr Davis\n",
      "Mr. T\n",
      "Ms Robinson\n",
      "Mrs Lady\n",
      "\n",
      "#URL\n",
      "youtube.com\n",
      "google.com\n",
      "coryms.in\n",
      "haryana.gov\n",
      "\n",
      "His birtday is on Friday.\n",
      "\n"
     ]
    }
   ],
   "source": [
    "#Changing or substituting text via group method\n",
    "subbed = re.sub(pattern=r'https?://(www\\.)?(\\w+)(\\.\\w+)', repl=r'\\2\\3',string=text_to_Search)  # replacing text with group 2 and group 3 in detected urls\n",
    "print(subbed)"
   ]
  },
  {
   "cell_type": "code",
   "execution_count": 289,
   "metadata": {},
   "outputs": [
    {
     "name": "stdout",
     "output_type": "stream",
     "text": [
      "https://www.youtube.com\n",
      "------------- www.\n",
      "------------------------- youtube\n",
      "----------------------------------- .com\n",
      "http://www.google.com\n",
      "------------- www.\n",
      "------------------------- google\n",
      "----------------------------------- .com\n",
      "http://coryms.in\n",
      "------------- None\n",
      "------------------------- coryms\n",
      "----------------------------------- .in\n",
      "http://haryana.gov\n",
      "------------- None\n",
      "------------------------- haryana\n",
      "----------------------------------- .gov\n"
     ]
    }
   ],
   "source": [
    "#getting information from group | like from above url we just want google.com or haryana.gov \n",
    "#Simple way\n",
    "#reg_ex(r'https?://(www\\.)?\\w+\\.\\w+')\n",
    "\n",
    "#grouping way\n",
    "mat = re.finditer(pattern=r'https?://(www\\.)?(\\w+)(\\.\\w+)',string=text_to_Search)\n",
    "for i in mat:\n",
    "    print(i.group(0))\n",
    "    print('-------------',i.group(1))\n",
    "    print('-------------------------',i.group(2))\n",
    "    print('-----------------------------------',i.group(3))"
   ]
  },
  {
   "cell_type": "markdown",
   "metadata": {},
   "source": []
  },
  {
   "cell_type": "code",
   "execution_count": 256,
   "metadata": {},
   "outputs": [
    {
     "name": "stdout",
     "output_type": "stream",
     "text": [
      "<_sre.SRE_Match object; span=(152, 167), match='surya@gmail.com'>\n",
      "surya@gmail.com\n",
      "<_sre.SRE_Match object; span=(168, 184), match='mahesh@gmail.com'>\n",
      "mahesh@gmail.com\n",
      "<_sre.SRE_Match object; span=(185, 202), match='m4ahesh@gmail.com'>\n",
      "m4ahesh@gmail.com\n",
      "-------------\n",
      "<_sre.SRE_Match object; span=(152, 167), match='surya@gmail.com'>\n",
      "surya@gmail.com\n",
      "<_sre.SRE_Match object; span=(168, 184), match='mahesh@gmail.com'>\n",
      "mahesh@gmail.com\n",
      "<_sre.SRE_Match object; span=(185, 202), match='m4ahesh@gmail.com'>\n",
      "m4ahesh@gmail.com\n",
      "<_sre.SRE_Match object; span=(203, 220), match='luies@outlook.com'>\n",
      "luies@outlook.com\n"
     ]
    }
   ],
   "source": [
    "#For email\n",
    "reg_ex(r'[A-Za-z0-9]+@gmail.com')\n",
    "print('-------------')\n",
    "#Extracting all email not just one\n",
    "reg_ex(r'[A-za-z0-9._-]+@[a-zA-Z-_]+\\.(com|edu|in|co|net)')\n"
   ]
  },
  {
   "cell_type": "code",
   "execution_count": 242,
   "metadata": {},
   "outputs": [
    {
     "name": "stdout",
     "output_type": "stream",
     "text": [
      "<_sre.SRE_Match object; span=(255, 262), match='Mr. ABC'>\n",
      "Mr. ABC\n",
      "<_sre.SRE_Match object; span=(263, 271), match='Mr Smith'>\n",
      "Mr Smith\n",
      "<_sre.SRE_Match object; span=(272, 280), match='Mr Davis'>\n",
      "Mr Davis\n",
      "<_sre.SRE_Match object; span=(281, 286), match='Mr. T'>\n",
      "Mr. T\n",
      "<_sre.SRE_Match object; span=(287, 298), match='Ms Robinson'>\n",
      "Ms Robinson\n",
      "<_sre.SRE_Match object; span=(299, 307), match='Mrs Lady'>\n",
      "Mrs Lady\n"
     ]
    }
   ],
   "source": [
    "#Using Group\n",
    "#as Mrs and MS and Mr filterration\n",
    "reg_ex(r'(Mr|Ms|Mrs)\\.?\\s[A-Z]\\w*')"
   ]
  },
  {
   "cell_type": "code",
   "execution_count": 240,
   "metadata": {},
   "outputs": [
    {
     "name": "stdout",
     "output_type": "stream",
     "text": [
      "<_sre.SRE_Match object; span=(255, 262), match='Mr. ABC'>\n",
      "Mr. ABC\n",
      "<_sre.SRE_Match object; span=(263, 271), match='Mr Smith'>\n",
      "Mr Smith\n",
      "<_sre.SRE_Match object; span=(272, 280), match='Mr Davis'>\n",
      "Mr Davis\n",
      "<_sre.SRE_Match object; span=(281, 286), match='Mr. T'>\n",
      "Mr. T\n",
      "<_sre.SRE_Match object; span=(152, 167), match='surya@gmail.com'>\n",
      "surya@gmail.com\n",
      "<_sre.SRE_Match object; span=(168, 184), match='mahesh@gmail.com'>\n",
      "mahesh@gmail.com\n",
      "<_sre.SRE_Match object; span=(185, 202), match='m4ahesh@gmail.com'>\n",
      "m4ahesh@gmail.com\n"
     ]
    }
   ],
   "source": [
    "#[a-z] range a to z  similarly  [0-4]range 0 to4\n",
    "#[^a]bc  here upper carret used inside blockthat means that word starting with a should not return followed by bc\n",
    "\n",
    "#here we don't know the number of name as letters. so expresion will be\n",
    "reg_ex(r'Mr\\.?\\s[A-Z]\\w*') # we use ? as some Mr name containing dot some not so use quetion mark to select either 0 or1"
   ]
  },
  {
   "cell_type": "code",
   "execution_count": 224,
   "metadata": {},
   "outputs": [
    {
     "name": "stdout",
     "output_type": "stream",
     "text": [
      "<_sre.SRE_Match object; span=(185, 197), match='321-555-5363'>\n",
      "321-555-5363\n",
      "<_sre.SRE_Match object; span=(198, 210), match='332.454.6584'>\n",
      "332.454.6584\n",
      "<_sre.SRE_Match object; span=(211, 223), match='300-444-5435'>\n",
      "300-444-5435\n",
      "<_sre.SRE_Match object; span=(224, 236), match='400-344-5456'>\n",
      "400-344-5456\n",
      "-----\n",
      "<_sre.SRE_Match object; span=(185, 197), match='321-555-5363'>\n",
      "321-555-5363\n",
      "<_sre.SRE_Match object; span=(211, 223), match='300-444-5435'>\n",
      "300-444-5435\n",
      "<_sre.SRE_Match object; span=(224, 236), match='400-344-5456'>\n",
      "400-344-5456\n",
      "-----\n",
      "<_sre.SRE_Match object; span=(211, 223), match='300-444-5435'>\n",
      "300-444-5435\n",
      "<_sre.SRE_Match object; span=(224, 236), match='400-344-5456'>\n",
      "400-344-5456\n",
      "-----------------------------------------------\n",
      "<_sre.SRE_Match object; span=(185, 197), match='321-555-5363'>\n",
      "321-555-5363\n",
      "<_sre.SRE_Match object; span=(198, 210), match='332.454.6584'>\n",
      "332.454.6584\n",
      "<_sre.SRE_Match object; span=(211, 223), match='300-444-5435'>\n",
      "300-444-5435\n",
      "<_sre.SRE_Match object; span=(224, 236), match='400-344-5456'>\n",
      "400-344-5456\n"
     ]
    }
   ],
   "source": [
    "#detecting phone numbers\n",
    "reg_ex(r'\\d\\d\\d.\\d\\d\\d.\\d\\d\\d\\d')\n",
    "print('-----')\n",
    "reg_ex(r'\\d\\d\\d[-]\\d\\d\\d[-]\\d\\d\\d\\d') #it matchesspecific -sepraed phone numbrs\n",
    "print('-----')\n",
    "\n",
    "#what if we want only number starting with 300 & 400\n",
    "reg_ex(r'[34]00[-]\\d\\d\\d[-]\\d\\d\\d\\d')\n",
    "print('-----------------------------------------------')\n",
    "#Shortening by recalling the range of numbers as in phone number we are ooking forward to get like 3 3 and 4 numbers which is a valid phone number so it will be\n",
    "reg_ex(r'\\d{3}.\\d{3}.\\d{4}')"
   ]
  },
  {
   "cell_type": "code",
   "execution_count": 223,
   "metadata": {},
   "outputs": [
    {
     "name": "stdout",
     "output_type": "stream",
     "text": [
      "<_sre.SRE_Match object; span=(72, 74), match='Ha'>\n",
      "Ha\n",
      "<_sre.SRE_Match object; span=(75, 77), match='Ha'>\n",
      "Ha\n",
      "<_sre.SRE_Match object; span=(80, 82), match='Ha'>\n",
      "Ha\n",
      "<_sre.SRE_Match object; span=(77, 79), match='ha'>\n",
      "ha\n",
      "<_sre.SRE_Match object; span=(82, 84), match='ha'>\n",
      "ha\n",
      "<_sre.SRE_Match object; span=(91, 93), match='ha'>\n",
      "ha\n"
     ]
    }
   ],
   "source": [
    "reg_ex(r'\\bHa') #will only return till Ha Ha Ha as we have three in out text\n",
    "reg_ex(r'\\Bha') #opposite of above asthe ending part of Ha Haha string"
   ]
  },
  {
   "cell_type": "code",
   "execution_count": 178,
   "metadata": {},
   "outputs": [
    {
     "name": "stdout",
     "output_type": "stream",
     "text": [
      "<_sre.SRE_Match object; span=(1, 4), match='abc'>\n",
      "abc\n"
     ]
    }
   ],
   "source": [
    "reg_ex(r'abc') #exact match"
   ]
  },
  {
   "cell_type": "code",
   "execution_count": 179,
   "metadata": {},
   "outputs": [
    {
     "name": "stdout",
     "output_type": "stream",
     "text": [
      "<_sre.SRE_Match object; span=(124, 125), match='.'>\n",
      ".\n",
      "<_sre.SRE_Match object; span=(163, 164), match='.'>\n",
      ".\n",
      "<_sre.SRE_Match object; span=(184, 185), match='.'>\n",
      ".\n",
      "<_sre.SRE_Match object; span=(188, 189), match='.'>\n",
      ".\n",
      "<_sre.SRE_Match object; span=(196, 197), match='.'>\n",
      ".\n",
      "<_sre.SRE_Match object; span=(219, 220), match='.'>\n",
      ".\n",
      "<_sre.SRE_Match object; span=(255, 256), match='.'>\n",
      ".\n"
     ]
    }
   ],
   "source": [
    "# reg_ex(r'.')  # here this . will search for everything\n",
    "#sor for to search for just specific '.' we will use backslash\n",
    "reg_ex(r'\\.')"
   ]
  },
  {
   "cell_type": "code",
   "execution_count": 199,
   "metadata": {},
   "outputs": [
    {
     "name": "stdout",
     "output_type": "stream",
     "text": [
      "<_sre.SRE_Match object; span=(157, 167), match='@gmail.com'>\n",
      "@gmail.com\n"
     ]
    }
   ],
   "source": [
    "reg_ex(r'\\b@gmail.com')"
   ]
  },
  {
   "cell_type": "code",
   "execution_count": 337,
   "metadata": {},
   "outputs": [],
   "source": [
    "text = \"\"\"\n",
    "Hey, Hy today I met him.\n",
    "He is coming on monday.\n",
    "He Spoke to me on 27 august.\n",
    "1/04/1994\n",
    "03 aug \n",
    "jan 14th 2019\n",
    "may 1998 \n",
    "February\n",
    "12/1/1996\n",
    "1995/04/3\n",
    "1995/04/03\n",
    "\"\"\"\n"
   ]
  },
  {
   "cell_type": "code",
   "execution_count": 344,
   "metadata": {},
   "outputs": [],
   "source": [
    "# year / month or day\n",
    "yrmnday = re.compile(r'\\d{4}[-./]\\d{2}[-./]\\d{2}')\n",
    "yrmnday_1 = re.compile(r'\\d{4}[-./]\\d{1}[-./]\\d{2}')\n",
    "yrmnday_2 = re.compile(r'\\d{4}[-./]\\d{1}[-./]\\d{1}')\n",
    "yrmnday_3 = re.compile(r'\\d{4}[-./]\\d{2}[-./]\\d{1}')\n",
    "\n",
    "mndayyr = re.compile(r'\\d{2}[-./]\\d{2}[-./]\\d{4}')\n",
    "mndayyr_1 = re.compile(r'\\d{2}[-./]\\d{1}[-./]\\d{4}')\n",
    "mndayyr_2 = re.compile(r'\\d{1}[-./]\\d{2}[-./]\\d{4}')\n",
    "mndayyr_3 = re.compile(r'\\d{1}[-./]\\d{1}[-./]\\d{4}')\n",
    "\n",
    "mnyr = re.compile(r'\\d{2}[-./]\\d{4}')\n",
    "mnyr_1 = re.compile(r'\\d{1}[-./]\\d{4}')\n",
    "yrmn = re.compile(r'\\d{4}[-./]\\d{2}')\n",
    "yrmn_1 = re.compile(r'\\d{4}[-./]\\d{1}')\n",
    "\n",
    "month = re.compile(r'(january|february|march|april|may|june|july|august|september|october|november|december|jan|feb|mar|apr|jun|jul|aug|sept|oct|nov|dec|year|month|day)', flags=re.IGNORECASE)\n",
    "days = re.compile(r'[a-zA-Z]+day', flags=re.IGNORECASE)\n",
    "\n",
    "pattern = [yrmnday,yrmnday_1,yrmnday_2,yrmnday_3,mndayyr,mndayyr_1,mndayyr_2,mndayyr_3,mnyr,mnyr_1,yrmn_1,yrmn_1,month, days]"
   ]
  },
  {
   "cell_type": "code",
   "execution_count": 346,
   "metadata": {},
   "outputs": [
    {
     "name": "stdout",
     "output_type": "stream",
     "text": [
      "1995/04/03\n",
      "1995/04/3\n",
      "1995/04/0\n",
      "12/1/1996\n",
      "1/04/1994\n",
      "2/1/1996\n",
      "04/1994\n",
      "4/1994\n",
      "1/1996\n",
      "1995/0\n",
      "1995/0\n",
      "1995/0\n",
      "1995/0\n",
      "day\n",
      "day\n",
      "august\n",
      "aug\n",
      "jan\n",
      "may\n",
      "February\n",
      "today\n",
      "monday\n"
     ]
    }
   ],
   "source": [
    "for i in range(len(pattern)):\n",
    "    matches = re.finditer(pattern[i], text)\n",
    "    #matches = pattern.finditer(text)\n",
    "    for i in matches:\n",
    "        #print(i)\n",
    "        print(text[i.regs[0][0]:i.regs[0][1]])"
   ]
  }
 ],
 "metadata": {
  "kernelspec": {
   "display_name": "Python 3",
   "language": "python",
   "name": "python3"
  },
  "language_info": {
   "codemirror_mode": {
    "name": "ipython",
    "version": 3
   },
   "file_extension": ".py",
   "mimetype": "text/x-python",
   "name": "python",
   "nbconvert_exporter": "python",
   "pygments_lexer": "ipython3",
   "version": "3.6.6"
  }
 },
 "nbformat": 4,
 "nbformat_minor": 2
}
